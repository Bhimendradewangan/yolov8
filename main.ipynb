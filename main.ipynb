{
 "cells": [
  {
   "cell_type": "code",
   "execution_count": null,
   "metadata": {},
   "outputs": [],
   "source": [
    "from ultralytics import YOLO"
   ]
  },
  {
   "cell_type": "code",
   "execution_count": null,
   "metadata": {},
   "outputs": [],
   "source": [
    "# Load a model\n",
    "#model = YOLO(\"/content/Yolov8-Transformer/ultralytics/models/v8/yolov8s-Transformer.yaml\")  # build a new model from scratch\n",
    "# model = YOLO(\"yolov8.yaml\")\n",
    "# model = YOLO(\"yolov8s.pt\")  # load a pretrained model (recommended for training)\n",
    "model = YOLO('yolov8.yaml') #.load('yolov8s.pt')\n",
    "# Use the model\n",
    "model.train(data=\"/home/cse/datasets/DOTAv1.5/images/\", epochs=1,batch=3)  # train the model\n",
    "metrics = model.val()  # evaluate model performance on the validation set\n",
    "results = model(\"/content/datasets/DOTAv1.5/images/train/P0018.jpg\")  # predict on an image"
   ]
  }
 ],
 "metadata": {
  "language_info": {
   "name": "python"
  }
 },
 "nbformat": 4,
 "nbformat_minor": 2
}
